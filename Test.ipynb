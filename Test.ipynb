{
 "metadata": {
  "name": "",
  "signature": "sha256:bec2ea49c0016e9b3200fc34038cd84baf7302a58caa9ae025531973f8acb1ad"
 },
 "nbformat": 3,
 "nbformat_minor": 0,
 "worksheets": [
  {
   "cells": [
    {
     "cell_type": "code",
     "collapsed": false,
     "input": [
      "!pip install pytest"
     ],
     "language": "python",
     "metadata": {},
     "outputs": [
      {
       "output_type": "stream",
       "stream": "stdout",
       "text": [
        "Requirement already satisfied (use --upgrade to upgrade): pytest in /home/bitnami/anaconda/lib/python2.7/site-packages\r\n",
        "Cleaning up...\r\n"
       ]
      }
     ],
     "prompt_number": 7
    },
    {
     "cell_type": "code",
     "collapsed": false,
     "input": [
      "%%file cost_func.py\n",
      "\n",
      "import numpy as np\n",
      "from scipy.spatial.distance import euclidean\n",
      "\n",
      "##cost function\n",
      "def cost(c,data):\n",
      "    return np.sum([min(np.sum((c-d)**2,axis=1)) for d in data])\n"
     ],
     "language": "python",
     "metadata": {},
     "outputs": [
      {
       "output_type": "stream",
       "stream": "stdout",
       "text": [
        "Overwriting cost_func.py\n"
       ]
      }
     ],
     "prompt_number": 8
    },
    {
     "cell_type": "code",
     "collapsed": false,
     "input": [
      "%%file smpl_prb_func.py\n",
      "\n",
      "import numpy as np\n",
      "from scipy.spatial.distance import euclidean\n",
      "from cost_func import cost\n",
      "\n",
      "def smpl_prb(c,data,l):\n",
      "    phi_temp = cost(c,data)\n",
      "    return np.array([(min(np.sum((c-d)**2,axis=1)))*l/phi_temp for d in data])"
     ],
     "language": "python",
     "metadata": {},
     "outputs": [
      {
       "output_type": "stream",
       "stream": "stdout",
       "text": [
        "Overwriting smpl_prb_func.py\n"
       ]
      }
     ],
     "prompt_number": 9
    },
    {
     "cell_type": "code",
     "collapsed": false,
     "input": [
      "%%file test_cost.py\n",
      "\n",
      "import numpy as np\n",
      "from numpy.testing import assert_almost_equal\n",
      "from cost_func import cost\n",
      "\n",
      "def test_non_negativity():\n",
      "    for i in range(10):\n",
      "        data = np.random.normal(size=(10,2))\n",
      "        c = data[np.random.choice(range(10),1),]\n",
      "        assert cost(c, data) >= 0\n",
      "\n",
      "def test_full_data_zero():\n",
      "    for i in range(10):\n",
      "        data = np.random.normal(size=(10,2))\n",
      "        c = data\n",
      "        assert cost(c, data) == 0\n",
      "\n",
      "def test_c_more_cost_less():\n",
      "     for i in range(10):\n",
      "        data = np.random.normal(size=(10,2))\n",
      "        c_more = data[np.random.choice(range(10),4,replace=False),]\n",
      "        c = c_more[:2,]\n",
      "        assert cost(c_more, data) <= cost(c, data)\n"
     ],
     "language": "python",
     "metadata": {},
     "outputs": [
      {
       "output_type": "stream",
       "stream": "stdout",
       "text": [
        "Overwriting test_cost.py\n"
       ]
      }
     ],
     "prompt_number": 10
    },
    {
     "cell_type": "code",
     "collapsed": false,
     "input": [
      "%%file test_smpl_prb.py\n",
      "\n",
      "import numpy as np\n",
      "from numpy.testing import assert_almost_equal\n",
      "from cost_func import cost\n",
      "from smpl_prb_func import smpl_prb\n",
      "\n",
      "def test_non_negativity():\n",
      "    l = 3\n",
      "    for i in range(10):\n",
      "        data = np.random.normal(size=(10,2))\n",
      "        c = data[np.random.choice(range(10),1),]\n",
      "        assert np.alltrue(smpl_prb(c,data,l) >= 0)\n",
      "        \n",
      "\n",
      "def test_sum_to_l():\n",
      "    for i in range(10):\n",
      "        l = i + 1\n",
      "        data = np.random.normal(size=(10,2))\n",
      "        c = data[np.random.choice(range(10),1),]\n",
      "        assert (np.sum(smpl_prb(c,data,l)) - l) <= 1e-6\n",
      "\n",
      "def test_in_c_zero():\n",
      "    l = 2\n",
      "    for i in range(10):\n",
      "        data = np.random.normal(size=(10,2))\n",
      "        choice = np.random.choice(range(10),1)\n",
      "        c = data[choice,]\n",
      "        prb = smpl_prb(c,data,l)\n",
      "        assert np.alltrue(prb[choice,] == 0)\n",
      "\n"
     ],
     "language": "python",
     "metadata": {},
     "outputs": [
      {
       "output_type": "stream",
       "stream": "stdout",
       "text": [
        "Overwriting test_smpl_prb.py\n"
       ]
      }
     ],
     "prompt_number": 11
    },
    {
     "cell_type": "code",
     "collapsed": false,
     "input": [
      "! py.test"
     ],
     "language": "python",
     "metadata": {},
     "outputs": [
      {
       "output_type": "stream",
       "stream": "stdout",
       "text": [
        "\u001b[1m============================= test session starts ==============================\u001b[0m\r\n",
        "platform linux2 -- Python 2.7.9 -- py-1.4.25 -- pytest-2.6.3\r\n",
        "\u001b[1m\r",
        "collecting 0 items\u001b[0m"
       ]
      },
      {
       "output_type": "stream",
       "stream": "stdout",
       "text": [
        "\u001b[1m\r",
        "collecting 3 items\u001b[0m\u001b[1m\r",
        "collecting 6 items\u001b[0m\u001b[1m\r",
        "collected 6 items \r\n",
        "\u001b[0m\r\n",
        "test_cost.py ...\r\n",
        "test_smpl_prb.py .."
       ]
      },
      {
       "output_type": "stream",
       "stream": "stdout",
       "text": [
        ".\r\n",
        "\r\n",
        "\u001b[32m\u001b[1m=========================== 6 passed in 0.18 seconds ===========================\u001b[0m\r\n"
       ]
      }
     ],
     "prompt_number": 12
    }
   ],
   "metadata": {}
  }
 ]
}