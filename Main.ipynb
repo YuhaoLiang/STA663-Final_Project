{
 "metadata": {
  "name": "",
  "signature": "sha256:5e8585520ccdaff84ee0b1d8d28cf063ebb9dc52ebde00f5388841532307e29f"
 },
 "nbformat": 3,
 "nbformat_minor": 0,
 "worksheets": [
  {
   "cells": [
    {
     "cell_type": "code",
     "collapsed": false,
     "input": [
      "sklearn.cluster.KMeans(n_clusters=8, init='k-means++', n_init=10, max_iter=300, tol=0.0001, precompute_distances='auto', verbose=0, random_state=None, copy_x=True, n_jobs=1)"
     ],
     "language": "python",
     "metadata": {},
     "outputs": []
    }
   ],
   "metadata": {}
  }
 ]
}