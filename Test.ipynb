{
 "metadata": {
  "name": "",
  "signature": "sha256:986695f7a3ce1435c4c4724bfa9ef0deb3ffb1136153828b96b50254c1652196"
 },
 "nbformat": 3,
 "nbformat_minor": 0,
 "worksheets": [
  {
   "cells": [
    {
     "cell_type": "code",
     "collapsed": false,
     "input": [
      "!pip install pytest"
     ],
     "language": "python",
     "metadata": {},
     "outputs": [
      {
       "output_type": "stream",
       "stream": "stdout",
       "text": [
        "Requirement already satisfied (use --upgrade to upgrade): pytest in /home/bitnami/anaconda/lib/python2.7/site-packages\r\n",
        "Cleaning up...\r\n"
       ]
      }
     ],
     "prompt_number": 1
    },
    {
     "cell_type": "code",
     "collapsed": false,
     "input": [
      "%%file cost_func.py\n",
      "\n",
      "import numpy as np\n",
      "from scipy.spatial.distance import euclidean\n",
      "\n",
      "##cost function\n",
      "def cost(c,data):\n",
      "    return np.sum([min([euclidean(d,s) for s in c])**2 for d in data])\n"
     ],
     "language": "python",
     "metadata": {},
     "outputs": []
    },
    {
     "cell_type": "code",
     "collapsed": false,
     "input": [
      "%%file smpl_prb_func.py\n",
      "\n",
      "import numpy as np\n",
      "from scipy.spatial.distance import euclidean\n",
      "from cost_func import cost\n",
      "\n",
      "def smpl_prb(c,data,l):\n",
      "    phi_temp = cost(c,data)\n",
      "    return np.array([(min([euclidean(d,s) for s in c])**2)*l/phi_temp for d in data])"
     ],
     "language": "python",
     "metadata": {},
     "outputs": []
    },
    {
     "cell_type": "code",
     "collapsed": false,
     "input": [
      "%%file test_cost.py\n",
      "\n",
      "import numpy as np\n",
      "from numpy.testing import assert_almost_equal\n",
      "from cost_func import cost\n",
      "\n",
      "def test_non_negativity():\n",
      "    for i in range(10):\n",
      "        data = np.random.normal(size=(10,2))\n",
      "        c = data[np.random.choice(range(10),1),]\n",
      "        assert cost(c, data) >= 0\n",
      "\n",
      "def test_full_data_zero():\n",
      "    for i in range(10):\n",
      "        data = np.random.normal(size=(10,2))\n",
      "        c = data\n",
      "        assert cost(c, data) == 0\n",
      "\n",
      "def test_c_more_cost_less():\n",
      "     for i in range(10):\n",
      "        data = np.random.normal(size=(10,2))\n",
      "        c_more = data[np.random.choice(range(10),2,replace=False),]\n",
      "        c = c_more[1,]\n",
      "        assert cost(c_more, data) >= cost(c,data)\n"
     ],
     "language": "python",
     "metadata": {},
     "outputs": []
    },
    {
     "cell_type": "code",
     "collapsed": false,
     "input": [
      "%%file test_smpl_prb.py\n",
      "\n",
      "import numpy as np\n",
      "from numpy.testing import assert_almost_equal\n",
      "from cost_func import cost\n",
      "from smpl_prb_func import smpl_prb\n",
      "\n",
      "def test_non_negativity():\n",
      "    l = 3\n",
      "    for i in range(10):\n",
      "        data = np.random.normal(size=(10,2))\n",
      "        c = data[np.random.choice(range(10),1),]\n",
      "        assert np.alltrue(smpl_prb(c,data,l) >= 0)\n",
      "        \n",
      "\n",
      "def test_sum_to_l():\n",
      "    for i in range(10):\n",
      "        l = i + 1\n",
      "        data = np.random.normal(size=(10,2))\n",
      "        c = data[np.random.choice(range(10),1),]\n",
      "        assert np.sum(smpl_prb(c,data,l)) == l\n"
     ],
     "language": "python",
     "metadata": {},
     "outputs": []
    }
   ],
   "metadata": {}
  }
 ]
}