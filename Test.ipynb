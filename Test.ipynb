{
 "cells": [
  {
   "cell_type": "markdown",
   "metadata": {
    "collapsed": false
   },
   "source": [
    "# Function File"
   ]
  },
  {
   "cell_type": "markdown",
   "metadata": {},
   "source": [
    "##Python Function File"
   ]
  },
  {
   "cell_type": "code",
   "execution_count": null,
   "metadata": {
    "collapsed": true
   },
   "outputs": [],
   "source": [
    "%%file dist_sq_func.py\n",
    "\n",
    "import numpy as np\n",
    "\n",
    "#distance square function\n",
    "def dist_sq(a, b, axis = 0):\n",
    "    return np.sum((a-b)**2,axis)\n"
   ]
  },
  {
   "cell_type": "code",
   "execution_count": 32,
   "metadata": {
    "collapsed": false
   },
   "outputs": [
    {
     "name": "stdout",
     "output_type": "stream",
     "text": [
      "Overwriting cost_func.py\n"
     ]
    }
   ],
   "source": [
    "%%file cost_func.py\n",
    "\n",
    "import numpy as np\n",
    "from dist_sq_func import dist_sq\n",
    "\n",
    "##cost function\n",
    "def cost(c,data):\n",
    "    return np.sum([min(dist_sq(c, d, axis = 1)) for d in data])\n"
   ]
  },
  {
   "cell_type": "code",
   "execution_count": 33,
   "metadata": {
    "collapsed": false
   },
   "outputs": [
    {
     "name": "stdout",
     "output_type": "stream",
     "text": [
      "Overwriting smpl_prb_func.py\n"
     ]
    }
   ],
   "source": [
    "%%file smpl_prb_func.py\n",
    "\n",
    "import numpy as np\n",
    "from dist_sq_func import dist_sq\n",
    "from cost_func import cost\n",
    "\n",
    "#sample probability function\n",
    "def smpl_prb(c,data,l):\n",
    "    phi_temp = cost(c,data)\n",
    "    return np.array([(min(dist_sq(c, d, axis = 1)))*l/phi_temp for d in data])\n"
   ]
  },
  {
   "cell_type": "code",
   "execution_count": 1,
   "metadata": {
    "collapsed": false
   },
   "outputs": [
    {
     "name": "stdout",
     "output_type": "stream",
     "text": [
      "Writing weight_func_file.py\n"
     ]
    }
   ],
   "source": [
    "%%file weight_func_file.py\n",
    "\n",
    "import numpy as np\n",
    "from dist_sq_func import dist_sq\n",
    "\n",
    "#weight function - propotional to the number of data points have the same specific center\n",
    "def weight_func(c, data):\n",
    "    # Find the closet point in c for each point in data\n",
    "    min_c = [np.argmin(dist_sq(c, d, axis = 1)) for d in data];\n",
    "    ## number of points which is closest to each s in c\n",
    "    num_closest = np.array([min_c.count(i) for i in range(len(c))]).astype(float);\n",
    "    ## return normalized weight\n",
    "    return num_closest/np.sum(num_closest)\n"
   ]
  },
  {
   "cell_type": "code",
   "execution_count": 5,
   "metadata": {
    "collapsed": false
   },
   "outputs": [
    {
     "name": "stdout",
     "output_type": "stream",
     "text": [
      "Overwriting KmeansParallel_func.py\n"
     ]
    }
   ],
   "source": [
    "%%file KmeansParallel_func.py\n",
    "\n",
    "from __future__ import division\n",
    "import numpy as np\n",
    "import sys\n",
    "import sklearn.cluster\n",
    "from dist_sq_func import dist_sq\n",
    "from cost_func import cost\n",
    "from smpl_prb_func import smpl_prb\n",
    "from weight_func_file import weight_func\n",
    "\n",
    "#Kmeans||\n",
    "def KmeansParallel(n_clusters, data, l):\n",
    "    if n_clusters <= 0 or not(isinstance(n_clusters,int)):\n",
    "        sys.exit(\"n_cluster is not positive integer\")\n",
    "    \n",
    "    if l <= 0: \n",
    "        sys.exit(\"l is not positive\")\n",
    "    \n",
    "    if len(data) < n_clusters: \n",
    "        sys.exit(\"number of data is less than n_clusters\")\n",
    "    \n",
    "    num = len(data)\n",
    "    \n",
    "    #Step 1 - uniformly sample one point\n",
    "    c = np.array(data[np.random.choice(range(num),1),])\n",
    "    \n",
    "    #Step 2 - cost\n",
    "    phi = cost(c,data)\n",
    "    \n",
    "    #Step 3~6 - get potential centers\n",
    "    for i in range(np.ceil(np.log(phi)).astype(int)):\n",
    "        c_add = data[smpl_prb(c,data,l)>np.random.uniform(size = num),]\n",
    "        c = np.concatenate((c,c_add))\n",
    "        \n",
    "    #Step 7\n",
    "    # Find the closet point in c for each point in data\n",
    "    ##weight\n",
    "    weight = weight_func(c, data)\n",
    "    \n",
    "    #Step 8 - recluster by kmeans++ initialization\n",
    "    c_final = data[np.random.choice(range(len(c)),size=1,p=weight),]\n",
    "    data_final = c\n",
    "    for i in range(n_clusters-1):\n",
    "        new_prb = smpl_prb(c_final,data_final,l) * weight\n",
    "        c_fin_add = data[np.random.choice(range(len(c)),size=1,p=new_prb/np.sum(new_prb)),]\n",
    "        c_final = np.concatenate((c_final,c_fin_add))\n",
    "    \n",
    "    #Do k-means with initial centers\n",
    "    import sklearn.cluster\n",
    "    km2 = sklearn.cluster.KMeans(n_clusters=n_clusters, n_init=1, init=c_final, max_iter=500, tol=0.0001)\n",
    "    km2.fit(data);\n",
    "    \n",
    "    #return a KMeans type result - including: cluster_centers_, labels_, inertia_\n",
    "    return km2\n",
    "    "
   ]
  },
  {
   "cell_type": "markdown",
   "metadata": {},
   "source": [
    "##Multiple Processing Function File"
   ]
  },
  {
   "cell_type": "code",
   "execution_count": 1,
   "metadata": {
    "collapsed": false
   },
   "outputs": [
    {
     "name": "stdout",
     "output_type": "stream",
     "text": [
      "Overwriting MP_func.py\n"
     ]
    }
   ],
   "source": [
    "%%file MP_func.py\n",
    "\n",
    "import numpy as np\n",
    "from multiprocessing import Pool, cpu_count\n",
    "from functools import partial\n",
    "\n",
    "##distance square function - we don't need the square root so we can save computation time\n",
    "# euclidean distance\n",
    "def dist_sq(a, b, axis = 0):\n",
    "    return np.sum((a-b)**2,axis)\n",
    "\n",
    "##minimum distance square between data and centers\n",
    "def min_dist_sq(d, c, axis):\n",
    "    return np.min(dist_sq(c,d,axis))\n",
    "\n",
    "##cost function\n",
    "# Version 4 - parallel computing with multiple cores\n",
    "def cost_mc(c,data,axis=1):\n",
    "    pool = Pool(processes=cpu_count())\n",
    "    # define a partial function for min_dist_sq\n",
    "    partial_min_dist_sq = partial(min_dist_sq, c=c, axis=1)\n",
    "    cost = np.sum(pool.map(partial_min_dist_sq, data))\n",
    "    pool.close()\n",
    "    pool.terminate()\n",
    "    return cost\n",
    "\n",
    "\n",
    "#sampling probability function\n",
    "# Version 4 - parallel computing with multiple cores\n",
    "def smpl_prb_mc(c,data,l,axis):\n",
    "    phi_temp = cost_mc(c,data,axis)\n",
    "    pool = Pool(processes=cpu_count())\n",
    "    # define a partial function for min_dist_sq\n",
    "    partial_min_dist_sq2 = partial(min_dist_sq, c=c, axis=1)\n",
    "    sampling_prob = np.array(pool.map(partial_min_dist_sq2, data))*l/phi_temp\n",
    "    pool.close()\n",
    "    pool.terminate()\n",
    "    return sampling_prob\n",
    "\n",
    "##weight function \n",
    "# propotional to the number of data points have the same specific center\n",
    "# Version 2\n",
    "def weight_func(c, data):\n",
    "    # Find the closet point in c for each point in data\n",
    "    min_c = [np.argmin(dist_sq(c, d, axis = 1)) for d in data];\n",
    "    ## number of points which is closest to each s in c\n",
    "    num_closest = np.array([min_c.count(i) for i in range(len(c))]).astype(float);\n",
    "    ## return normalized weight\n",
    "    return num_closest/np.sum(num_closest)\n",
    "\n",
    "\n",
    "#Kmeans||\n",
    "#l is oversampling factor\n",
    "\n",
    "def KmeansParallel_mc(n_clusters, data, l):\n",
    "    if n_clusters <= 0 or not(isinstance(n_clusters,int)):\n",
    "        sys.exit(\"n_cluster is not positive integer\")\n",
    "    \n",
    "    if l <= 0: \n",
    "        sys.exit(\"l is not positive\")\n",
    "    \n",
    "    if len(data) < n_clusters: \n",
    "        sys.exit(\"number of data is less than n_clusters\")\n",
    "    \n",
    "    num = len(data)\n",
    "    \n",
    "    #Step 1 - uniformly sample one point\n",
    "    c = np.array(data[np.random.choice(range(num),1),])\n",
    "    \n",
    "    #Step 2 - cost\n",
    "    phi = cost_mc(c,data,axis=1)\n",
    "    \n",
    "    #Step 3~6 - get potential centers\n",
    "    for i in range(np.ceil(np.log(phi)).astype(int)):\n",
    "        c_add = data[smpl_prb_mc(c,data,l,axis=1)>np.random.uniform(size = num),]\n",
    "        c = np.concatenate((c,c_add))\n",
    "        \n",
    "    #Step 7\n",
    "    # Find the closet point in c for each point in data\n",
    "    ##weight\n",
    "    weight = weight_func(c,data)\n",
    "    \n",
    "    #Step 8 - recluster by kmeans++ initialization\n",
    "    c_final = data[np.random.choice(range(len(c)),size=1,p=weight),]\n",
    "    data_final = c\n",
    "    for i in range(n_clusters-1):\n",
    "        new_prb = smpl_prb_mc(c_final,data_final,l,axis=1) * weight\n",
    "        c_fin_add = data[np.random.choice(range(len(c)),size=1,p=new_prb/np.sum(new_prb)),]\n",
    "        c_final = np.concatenate((c_final,c_fin_add))\n",
    "    \n",
    "    \n",
    "    #Do k-means with initial centers\n",
    "    import sklearn.cluster\n",
    "    km2 = sklearn.cluster.KMeans(n_clusters=n_clusters, n_init=1, init=c_final, max_iter=500, tol=0.0001)\n",
    "    km2.fit(data);\n",
    "    \n",
    "    #return a KMeans type result - including: cluster_centers_, labels_, inertia_\n",
    "    return km2\n",
    "    "
   ]
  },
  {
   "cell_type": "code",
   "execution_count": null,
   "metadata": {
    "collapsed": true
   },
   "outputs": [],
   "source": []
  },
  {
   "cell_type": "markdown",
   "metadata": {},
   "source": [
    "#Test File"
   ]
  },
  {
   "cell_type": "code",
   "execution_count": 12,
   "metadata": {
    "collapsed": false
   },
   "outputs": [
    {
     "name": "stdout",
     "output_type": "stream",
     "text": [
      "Overwriting test_cost.py\n"
     ]
    }
   ],
   "source": [
    "%%file test_cost.py\n",
    "\n",
    "import numpy as np\n",
    "from numpy.testing import assert_almost_equal\n",
    "from cost_func import cost\n",
    "from MP_func import cost_mc\n",
    "\n",
    "def test_non_negativity():\n",
    "    for i in range(10):\n",
    "        data = np.random.normal(size=(10,2))\n",
    "        c = data[np.random.choice(range(10),1),]\n",
    "        assert (cost(c, data) >= 0) and (cost_mc(c, data) >= 0)\n",
    "\n",
    "def test_full_data_zero():\n",
    "    for i in range(10):\n",
    "        data = np.random.normal(size=(10,2))\n",
    "        c = data\n",
    "        assert (cost(c, data) == 0) and (cost_mc(c, data) == 0)\n",
    "\n",
    "def test_c_more_cost_less():\n",
    "     for i in range(10):\n",
    "        data = np.random.normal(size=(10,2))\n",
    "        c_more = data[np.random.choice(range(10),4,replace=False),]\n",
    "        c = c_more[:2,]\n",
    "        assert (cost(c_more, data) <= cost(c, data)) and (cost_mc(c_more, data) <= cost_mc(c, data))\n"
   ]
  },
  {
   "cell_type": "code",
   "execution_count": 36,
   "metadata": {
    "collapsed": false
   },
   "outputs": [
    {
     "name": "stdout",
     "output_type": "stream",
     "text": [
      "Overwriting test_dist_sq.py\n"
     ]
    }
   ],
   "source": [
    "%%file test_dist_sq.py\n",
    "\n",
    "import numpy as np\n",
    "from numpy.testing import assert_almost_equal\n",
    "from dist_sq_func import dist_sq\n",
    "\n",
    "def test_non_negativity():\n",
    "    for i in range(10):\n",
    "        u = np.random.normal(3)\n",
    "        v = np.random.normal(3)\n",
    "        assert dist_sq(u, v) >= 0\n",
    "\n",
    "def test_coincidence_when_zero():\n",
    "    u = np.zeros(3)\n",
    "    v = np.zeros(3)\n",
    "    assert dist_sq(u, v) == 0\n",
    "\n",
    "def test_coincidence_when_not_zero():\n",
    "     for i in range(10):\n",
    "        u = np.random.random(3)\n",
    "        v = np.zeros(3)\n",
    "        assert dist_sq(u, v) != 0\n",
    "\n",
    "def test_symmetry():\n",
    "    for i in range(10):\n",
    "        u = np.random.random(3)\n",
    "        v = np.random.random(3)\n",
    "        assert dist_sq(u, v) == dist_sq(v, u)\n",
    "\n",
    "def test_triangle():\n",
    "    \n",
    "    u = np.random.random(3)\n",
    "    v = np.random.random(3)\n",
    "    w = np.random.random(3)\n",
    "    assert np.sqrt(dist_sq(u, w)) <= np.sqrt(dist_sq(u, v)) + np.sqrt(dist_sq(v, w))\n",
    "\n",
    "def test_known1():\n",
    "    u = np.array([0])\n",
    "    v = np.array([3])\n",
    "    assert_almost_equal(dist_sq(u, v), 3**2)\n",
    "\n",
    "def test_known2():\n",
    "    u = np.array([0,0])\n",
    "    v = np.array([3, 4])\n",
    "    assert_almost_equal(dist_sq(u, v), 5**2)\n",
    "\n",
    "def test_known3():\n",
    "    u = np.array([0,0])\n",
    "    v = np.array([-3, -4])\n",
    "    assert_almost_equal(dist_sq(u, v), 5**2)"
   ]
  },
  {
   "cell_type": "code",
   "execution_count": 3,
   "metadata": {
    "collapsed": false
   },
   "outputs": [
    {
     "name": "stdout",
     "output_type": "stream",
     "text": [
      "Overwriting test_smpl_prb.py\n"
     ]
    }
   ],
   "source": [
    "%%file test_smpl_prb.py\n",
    "\n",
    "import numpy as np\n",
    "from numpy.testing import assert_almost_equal\n",
    "from cost_func import cost\n",
    "from smpl_prb_func import smpl_prb\n",
    "from MP_func import smpl_prb_mc\n",
    "\n",
    "def test_non_negativity():\n",
    "    l = 3\n",
    "    for i in range(10):\n",
    "        data = np.random.normal(size=(10,2))\n",
    "        c = data[np.random.choice(range(10),1),]\n",
    "        assert np.alltrue(smpl_prb(c,data,l) >= 0) and np.alltrue(smpl_prb_mc(c,data,l,axis=1) >= 0)\n",
    "        \n",
    "\n",
    "def test_sum_to_l():\n",
    "    for i in range(10):\n",
    "        l = i + 1\n",
    "        data = np.random.normal(size=(10,2))\n",
    "        c = data[np.random.choice(range(10),1),]\n",
    "        assert ((np.sum(smpl_prb(c,data,l)) - l) <= 1e-6) and ((np.sum(smpl_prb_mc(c,data,l,axis=1)) - l) <= 1e-6)\n",
    "\n",
    "def test_in_c_zero():\n",
    "    l = 2\n",
    "    for i in range(10):\n",
    "        data = np.random.normal(size=(10,2))\n",
    "        choice = np.random.choice(range(10),1)\n",
    "        c = data[choice,]\n",
    "        prb = smpl_prb(c,data,l)\n",
    "        prb_mc = smpl_prb_mc(c,data,l,axis=1)\n",
    "        assert np.alltrue(prb[choice,] == 0) and np.alltrue(prb_mc[choice,] == 0)\n",
    "\n"
   ]
  },
  {
   "cell_type": "code",
   "execution_count": 3,
   "metadata": {
    "collapsed": false
   },
   "outputs": [
    {
     "name": "stdout",
     "output_type": "stream",
     "text": [
      "Writing test_weight_func.py\n"
     ]
    }
   ],
   "source": [
    "%%file test_weight_func.py\n",
    "\n",
    "import numpy as np\n",
    "from numpy.testing import assert_almost_equal\n",
    "from cost_func import cost\n",
    "from weight_func_file import weight_func\n",
    "\n",
    "def test_non_negativity():\n",
    "    for i in range(10):\n",
    "        data = np.random.normal(size=(10,2))\n",
    "        c = data[np.random.choice(range(10),1),]\n",
    "        assert np.alltrue(weight_func(c,data) >= 0)\n",
    "        \n",
    "\n",
    "def test_sum_to_1():\n",
    "    for i in range(10):\n",
    "        data = np.random.normal(size=(10,2))\n",
    "        c = data[np.random.choice(range(10),1),]\n",
    "        assert (np.sum(weight_func(c,data)) - 1) <= 1e-6\n"
   ]
  },
  {
   "cell_type": "code",
   "execution_count": 5,
   "metadata": {
    "collapsed": false
   },
   "outputs": [
    {
     "name": "stdout",
     "output_type": "stream",
     "text": [
      "Overwriting test_KmeansParallel.py\n"
     ]
    }
   ],
   "source": [
    "%%file test_KmeansParallel.py\n",
    "\n",
    "import numpy as np\n",
    "import sys\n",
    "from numpy.testing import assert_almost_equal\n",
    "from KmeansParallel_func import KmeansParallel\n",
    "from MP_func import KmeansParallel_mc\n",
    "\n",
    "def test_level_label():\n",
    "    for i in range(10):\n",
    "        data = np.random.normal(size=(10,2))\n",
    "        k = 3\n",
    "        assert (len(set(KmeansParallel(n_clusters = k, data = data, l = 2*k).labels_)) == k) and (len(set(KmeansParallel_mc(n_clusters = k, data = data, l = 2*k).labels_)) == k)\n",
    "\n",
    "def test_num_label():\n",
    "    for i in range(10):\n",
    "        data = np.random.normal(size=(10,2))\n",
    "        k = 3\n",
    "        assert (len(KmeansParallel(n_clusters = k, data = data, l = 2*k).labels_) == len(data)) and (len(KmeansParallel_mc(n_clusters = k, data = data, l = 2*k).labels_) == len(data))\n",
    "\n",
    "        "
   ]
  },
  {
   "cell_type": "code",
   "execution_count": 6,
   "metadata": {
    "collapsed": false
   },
   "outputs": [
    {
     "name": "stdout",
     "output_type": "stream",
     "text": [
      "\u001b[1m============================= test session starts ==============================\u001b[0m\n",
      "platform linux2 -- Python 2.7.9 -- py-1.4.25 -- pytest-2.6.3\n",
      "collected 18 items \n",
      "\u001b[0m\n",
      "test_KmeansParallel.py ..\n",
      "test_cost.py ...\n",
      "test_dist_sq.py ........\n",
      "test_smpl_prb.py ...\n",
      "test_weight_func.py ..\n",
      "\n",
      "\u001b[32m\u001b[1m========================== 18 passed in 40.52 seconds ==========================\u001b[0m\n"
     ]
    }
   ],
   "source": [
    "! py.test"
   ]
  },
  {
   "cell_type": "code",
   "execution_count": null,
   "metadata": {
    "collapsed": true
   },
   "outputs": [],
   "source": []
  }
 ],
 "metadata": {
  "kernelspec": {
   "display_name": "Python 3",
   "language": "python",
   "name": "python3"
  },
  "language_info": {
   "codemirror_mode": {
    "name": "ipython",
    "version": 3
   },
   "file_extension": ".py",
   "mimetype": "text/x-python",
   "name": "python",
   "nbconvert_exporter": "python",
   "pygments_lexer": "ipython3",
   "version": "3.4.3"
  }
 },
 "nbformat": 4,
 "nbformat_minor": 0
}
