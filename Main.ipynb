{
 "metadata": {
  "name": "",
  "signature": "sha256:45d2f8af9baaec44f0db266cb0714248a963f1ff04c4f84b0e51e7a648fbd1b6"
 },
 "nbformat": 3,
 "nbformat_minor": 0,
 "worksheets": [
  {
   "cells": [
    {
     "cell_type": "code",
     "collapsed": false,
     "input": [
      "sklearn.cluster.KMeans(n_clusters=8, init='k-means++', n_init=10, max_iter=300, tol=0.0001, precompute_distances='auto', verbose=0, random_state=None, copy_x=True, n_jobs=1)"
     ],
     "language": "python",
     "metadata": {},
     "outputs": []
    },
    {
     "cell_type": "code",
     "collapsed": false,
     "input": [
      "from __future__ import division\n",
      "import os\n",
      "import sys\n",
      "import glob\n",
      "import matplotlib.pyplot as plt\n",
      "import numpy as np\n",
      "import pandas as pd\n",
      "import sklearn\n",
      "%matplotlib inline\n",
      "%precision 4\n",
      "plt.style.use('ggplot')"
     ],
     "language": "python",
     "metadata": {},
     "outputs": [],
     "prompt_number": 1
    },
    {
     "cell_type": "code",
     "collapsed": false,
     "input": [
      "#Data simulation - mixture of 3 binary normal distribution\n",
      "##distribution mean & covariance\n",
      "mean1 = np.array([3,5])\n",
      "mean2 = np.array([-2,3])\n",
      "mean3 = np.array([-2,3])\n",
      "cov1 = np.array([[1,0],[0,2]])\n",
      "cov2 = np.array([[1,-0.6],[-0.6,1]])\n",
      "cov3 = np.array([[3,0.3],[0.3,1]])\n",
      "\n",
      "data = np.vstack((np.random.multivariate_normal(mean1, cov1,100),np.random.multivariate_normal(mean2, cov2,100),\n",
      "                  np.random.multivariate_normal(mean3, cov3,100)))\n",
      "df = pd.DataFrame(data,columns=[\"X\",\"Y\"])\n",
      "df = df.ix[np.random.choice(range(len(df)),size = len(df), replace=False),]\n",
      "df.index = pd.Index(range(300))"
     ],
     "language": "python",
     "metadata": {},
     "outputs": [],
     "prompt_number": 36
    },
    {
     "cell_type": "code",
     "collapsed": false,
     "input": [
      "df.ix[:5,]"
     ],
     "language": "python",
     "metadata": {},
     "outputs": [
      {
       "html": [
        "<div style=\"max-height:1000px;max-width:1500px;overflow:auto;\">\n",
        "<table border=\"1\" class=\"dataframe\">\n",
        "  <thead>\n",
        "    <tr style=\"text-align: right;\">\n",
        "      <th></th>\n",
        "      <th>X</th>\n",
        "      <th>Y</th>\n",
        "    </tr>\n",
        "  </thead>\n",
        "  <tbody>\n",
        "    <tr>\n",
        "      <th>0</th>\n",
        "      <td>-1.803798</td>\n",
        "      <td> 2.539895</td>\n",
        "    </tr>\n",
        "    <tr>\n",
        "      <th>1</th>\n",
        "      <td> 0.200738</td>\n",
        "      <td> 2.890922</td>\n",
        "    </tr>\n",
        "    <tr>\n",
        "      <th>2</th>\n",
        "      <td>-2.499611</td>\n",
        "      <td> 3.768067</td>\n",
        "    </tr>\n",
        "    <tr>\n",
        "      <th>3</th>\n",
        "      <td> 3.143090</td>\n",
        "      <td> 5.976925</td>\n",
        "    </tr>\n",
        "    <tr>\n",
        "      <th>4</th>\n",
        "      <td> 1.929256</td>\n",
        "      <td> 6.962090</td>\n",
        "    </tr>\n",
        "    <tr>\n",
        "      <th>5</th>\n",
        "      <td> 0.326594</td>\n",
        "      <td> 4.311795</td>\n",
        "    </tr>\n",
        "  </tbody>\n",
        "</table>\n",
        "</div>"
       ],
       "metadata": {},
       "output_type": "pyout",
       "prompt_number": 37,
       "text": [
        "          X         Y\n",
        "0 -1.803798  2.539895\n",
        "1  0.200738  2.890922\n",
        "2 -2.499611  3.768067\n",
        "3  3.143090  5.976925\n",
        "4  1.929256  6.962090\n",
        "5  0.326594  4.311795"
       ]
      }
     ],
     "prompt_number": 37
    },
    {
     "cell_type": "code",
     "collapsed": false,
     "input": [
      "import sklearn.cluster"
     ],
     "language": "python",
     "metadata": {},
     "outputs": [],
     "prompt_number": 41
    },
    {
     "cell_type": "code",
     "collapsed": false,
     "input": [
      "sklearn.cluster.KMeans(n_clusters=8, init='k-means++', n_init=10, max_iter=300, tol=0.0001).fit(df)"
     ],
     "language": "python",
     "metadata": {},
     "outputs": [
      {
       "metadata": {},
       "output_type": "pyout",
       "prompt_number": 42,
       "text": [
        "KMeans(copy_x=True, init='k-means++', max_iter=300, n_clusters=8, n_init=10,\n",
        "    n_jobs=1, precompute_distances=True, random_state=None, tol=0.0001,\n",
        "    verbose=0)"
       ]
      }
     ],
     "prompt_number": 42
    }
   ],
   "metadata": {}
  }
 ]
}