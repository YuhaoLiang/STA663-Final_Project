{
 "metadata": {
  "name": "",
  "signature": "sha256:2156bb97e585b353a2f86cd3c9d6506d90d0f413d84fc576a69758b8c137fb2e"
 },
 "nbformat": 3,
 "nbformat_minor": 0,
 "worksheets": [
  {
   "cells": [
    {
     "cell_type": "heading",
     "level": 1,
     "metadata": {},
     "source": [
      "Outlines of Scalable K-means||"
     ]
    },
    {
     "cell_type": "heading",
     "level": 2,
     "metadata": {},
     "source": [
      "Background"
     ]
    },
    {
     "cell_type": "markdown",
     "metadata": {},
     "source": [
      "So far, k-means remains one of the most popular data processing algorithms. However, general k-means algorithm is not a good clustering algorithm in terms of efficiency and quality, which means it needs a long time to converge when the data set is large and it may just converge to the local optimum. As to quality, the recently proposed k-means++ initialization algorithm improves this, obtaining an initial set of centers that is provably close to the optimum solution. Now, there is a new algorithm, k-means||, obtaining a nearly optimal solution, based on k-means++, after a logarithmic number of passes, and then show that in practice a constant number of passes suffices, which also largely improves efficiency."
     ]
    },
    {
     "cell_type": "markdown",
     "metadata": {},
     "source": [
      "Basically, k-means|| is based on k-means++ and the largest difference between these two algorithm is the initialization part of the algorithm. Since the initialization of k-means++ is deterministic (the previous choices that determine which points are away in the current solution), it is nearly impossible to use parallel computation to improve efficiency. Instead, k-means|| algorithm samples O(k) points in each round and repeat the process for approximately O(log n) rounds, which can implement parallel computation."
     ]
    }
   ],
   "metadata": {}
  }
 ]
}