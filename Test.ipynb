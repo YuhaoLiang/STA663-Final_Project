{
 "cells": [
  {
   "cell_type": "code",
   "execution_count": null,
   "metadata": {
    "collapsed": false
   },
   "outputs": [],
   "source": [
    "%%file cost_func.py\n",
    "\n",
    "import numpy as np\n",
    "\n",
    "##cost function\n",
    "def cost(c,data):\n",
    "    return np.sum([min(np.sum((c-d)**2,axis=1)) for d in data])\n"
   ]
  },
  {
   "cell_type": "code",
   "execution_count": null,
   "metadata": {
    "collapsed": false
   },
   "outputs": [],
   "source": [
    "%%file smpl_prb_func.py\n",
    "\n",
    "import numpy as np\n",
    "from cost_func import cost\n",
    "\n",
    "def smpl_prb(c,data,l):\n",
    "    phi_temp = cost(c,data)\n",
    "    return np.array([(min(np.sum((c-d)**2,axis=1)))*l/phi_temp for d in data])"
   ]
  },
  {
   "cell_type": "code",
   "execution_count": null,
   "metadata": {
    "collapsed": false
   },
   "outputs": [],
   "source": [
    "%%file KmeansParallel_func.py\n",
    "\n",
    "from __future__ import division\n",
    "import numpy as np\n",
    "import sys\n",
    "import sklearn.cluster\n",
    "\n",
    "#Kmeans||\n",
    "#l is oversampling factor\n",
    "\n",
    "def KmeansParallel(n_clusters, data, l):\n",
    "    if n_clusters <= 0 or not(isinstance(n_clusters,int)):\n",
    "        sys.exit(\"n_cluster is not positive integer\")\n",
    "    \n",
    "    if l <= 0: \n",
    "        sys.exit(\"l is not positive\")\n",
    "    \n",
    "    if len(data) < n_clusters: \n",
    "        sys.exit(\"number of data is less than n_clusters\")\n",
    "    \n",
    "    ##cost function\n",
    "    # Version 1 - 2 list comprehension, no broadcasting\n",
    "    # def cost(c,data):\n",
    "    #     return np.sum([min([euclidean(d,s) for s in c])**2 for d in data])\n",
    "\n",
    "    # Version 2 - 1 list comprehension and one broadcasting\n",
    "    def cost(c,data):\n",
    "        return np.sum([min(np.sum((c-d)**2,axis=1)) for d in data])\n",
    "\n",
    "\n",
    "    #sampling probability function\n",
    "    # Version 1 - 2 list comprehension, no broadcasting\n",
    "    # def smpl_prb(c,data,l):\n",
    "    #     phi_temp = cost(c,data)\n",
    "    #     return np.array([(min([euclidean(d,s) for s in c])**2)*l/phi_temp for d in data])\n",
    "\n",
    "    # Version 2 - 1 list comprehension, 1 broadcasting\n",
    "    def smpl_prb(c,data,l):\n",
    "        phi_temp = cost(c,data)\n",
    "        return np.array([(min(np.sum((c-d)**2,axis=1)))*l/phi_temp for d in data])\n",
    "    \n",
    "    num = len(data)\n",
    "    \n",
    "    #Step 1 - uniformly sample one point\n",
    "    c = np.array(data[np.random.choice(range(num),1),])\n",
    "    \n",
    "    #Step 2 - cost\n",
    "    phi = cost(c,data)\n",
    "    \n",
    "    #Step 3~6 - get potential centers\n",
    "    for i in range(np.ceil(np.log(phi)).astype(int)):\n",
    "        c_add = data[smpl_prb(c,data,l)>np.random.uniform(size = num),]\n",
    "        c = np.concatenate((c,c_add))\n",
    "        \n",
    "    #Step 7\n",
    "    # Find the closet point in c for each point in data\n",
    "    # Version 1 - 2 list comprehension, no broadcasting\n",
    "    # min_c = [np.argmin([euclidean(d,s) for s in c]) for d in data];\n",
    "    # Version 2 - 1 list comprehension, 1 broadcasting\n",
    "    min_c = [np.argmin(np.sum((c-d)**2,axis=1)) for d in data];\n",
    "\n",
    "    ##number of points which is closest to each s in c\n",
    "    num_closest = [min_c.count(i) for i in range(len(c))]\n",
    "    \n",
    "    ##weight\n",
    "    weight = num_closest/np.sum(num_closest)\n",
    "    \n",
    "    #Step 8 - recluster by kmeans++ initialization\n",
    "    c_final = data[np.random.choice(range(len(c)),size=1,p=weight),]\n",
    "    data_final = c\n",
    "    for i in range(n_clusters-1):\n",
    "        new_prb = smpl_prb(c_final,data_final,l) * weight\n",
    "        c_fin_add = data[np.random.choice(range(len(c)),size=1,p=new_prb/np.sum(new_prb)),]\n",
    "        c_final = np.concatenate((c_final,c_fin_add))\n",
    "    \n",
    "    #Do k-means with initial centers\n",
    "    import sklearn.cluster\n",
    "    km2 = sklearn.cluster.KMeans(n_clusters=n_clusters, n_init=1, init=c_final, max_iter=500, tol=0.0001)\n",
    "    km2.fit(data);\n",
    "    \n",
    "    #return a KMeans type result - including: cluster_centers_, labels_, inertia_\n",
    "    return km2\n",
    "    "
   ]
  },
  {
   "cell_type": "code",
   "execution_count": null,
   "metadata": {
    "collapsed": false
   },
   "outputs": [],
   "source": [
    "%%file test_cost.py\n",
    "\n",
    "import numpy as np\n",
    "from numpy.testing import assert_almost_equal\n",
    "from cost_func import cost\n",
    "\n",
    "def test_non_negativity():\n",
    "    for i in range(10):\n",
    "        data = np.random.normal(size=(10,2))\n",
    "        c = data[np.random.choice(range(10),1),]\n",
    "        assert cost(c, data) >= 0\n",
    "\n",
    "def test_full_data_zero():\n",
    "    for i in range(10):\n",
    "        data = np.random.normal(size=(10,2))\n",
    "        c = data\n",
    "        assert cost(c, data) == 0\n",
    "\n",
    "def test_c_more_cost_less():\n",
    "     for i in range(10):\n",
    "        data = np.random.normal(size=(10,2))\n",
    "        c_more = data[np.random.choice(range(10),4,replace=False),]\n",
    "        c = c_more[:2,]\n",
    "        assert cost(c_more, data) <= cost(c, data)\n"
   ]
  },
  {
   "cell_type": "code",
   "execution_count": null,
   "metadata": {
    "collapsed": false
   },
   "outputs": [],
   "source": [
    "%%file test_smpl_prb.py\n",
    "\n",
    "import numpy as np\n",
    "from numpy.testing import assert_almost_equal\n",
    "from cost_func import cost\n",
    "from smpl_prb_func import smpl_prb\n",
    "\n",
    "def test_non_negativity():\n",
    "    l = 3\n",
    "    for i in range(10):\n",
    "        data = np.random.normal(size=(10,2))\n",
    "        c = data[np.random.choice(range(10),1),]\n",
    "        assert np.alltrue(smpl_prb(c,data,l) >= 0)\n",
    "        \n",
    "\n",
    "def test_sum_to_l():\n",
    "    for i in range(10):\n",
    "        l = i + 1\n",
    "        data = np.random.normal(size=(10,2))\n",
    "        c = data[np.random.choice(range(10),1),]\n",
    "        assert (np.sum(smpl_prb(c,data,l)) - l) <= 1e-6\n",
    "\n",
    "def test_in_c_zero():\n",
    "    l = 2\n",
    "    for i in range(10):\n",
    "        data = np.random.normal(size=(10,2))\n",
    "        choice = np.random.choice(range(10),1)\n",
    "        c = data[choice,]\n",
    "        prb = smpl_prb(c,data,l)\n",
    "        assert np.alltrue(prb[choice,] == 0)\n",
    "\n"
   ]
  },
  {
   "cell_type": "code",
   "execution_count": null,
   "metadata": {
    "collapsed": false
   },
   "outputs": [],
   "source": [
    "%%file test_KmeansParallel.py\n",
    "\n",
    "import numpy as np\n",
    "import sys\n",
    "from numpy.testing import assert_almost_equal\n",
    "from numpy.testing import assert_raises\n",
    "from KmeansParallel_func import KmeansParallel\n",
    "\n",
    "def test_level_label():\n",
    "    for i in range(10):\n",
    "        data = np.random.normal(size=(10,2))\n",
    "        k = 3\n",
    "        assert len(set(KmeansParallel(n_clusters = k, data = data, l = 2*k).labels_)) == k\n",
    "\n",
    "def test_num_label():\n",
    "    for i in range(10):\n",
    "        data = np.random.normal(size=(10,2))\n",
    "        k = 3\n",
    "        assert len(KmeansParallel(n_clusters = k, data = data, l = 2*k).labels_) == len(data)\n",
    "\n",
    "        "
   ]
  },
  {
   "cell_type": "code",
   "execution_count": null,
   "metadata": {
    "collapsed": false
   },
   "outputs": [],
   "source": [
    "! py.test"
   ]
  },
  {
   "cell_type": "code",
   "execution_count": null,
   "metadata": {
    "collapsed": false
   },
   "outputs": [],
   "source": []
  }
 ],
 "metadata": {
  "kernelspec": {
   "display_name": "Python 3",
   "language": "python",
   "name": "python3"
  },
  "language_info": {
   "codemirror_mode": {
    "name": "ipython",
    "version": 3
   },
   "file_extension": ".py",
   "mimetype": "text/x-python",
   "name": "python",
   "nbconvert_exporter": "python",
   "pygments_lexer": "ipython3",
   "version": "3.4.3"
  }
 },
 "nbformat": 4,
 "nbformat_minor": 0
}
